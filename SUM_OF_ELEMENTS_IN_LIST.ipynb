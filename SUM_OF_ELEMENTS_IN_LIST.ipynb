{
 "cells": [
  {
   "cell_type": "code",
   "execution_count": null,
   "id": "0affea5d",
   "metadata": {},
   "outputs": [],
   "source": []
  },
  {
   "cell_type": "code",
   "execution_count": null,
   "id": "12cd2ec9",
   "metadata": {},
   "outputs": [],
   "source": []
  },
  {
   "cell_type": "code",
   "execution_count": 7,
   "id": "15426db7",
   "metadata": {},
   "outputs": [
    {
     "name": "stdout",
     "output_type": "stream",
     "text": [
      "enter no. \n",
      "10\n",
      "enter no. \n",
      "20\n",
      "enter no. \n",
      "30\n",
      "enter no. \n",
      "40\n",
      "enter no. \n",
      "50\n",
      "enter no. \n",
      "60\n",
      "enter no. \n",
      "70\n",
      "enter no. \n",
      "80\n",
      "enter no. \n",
      "90\n",
      "enter no. \n",
      "100\n",
      "[10, 20, 30, 40, 50, 60, 70, 80, 90, 100]\n",
      "The sum of all the elements inside the list is:  550\n"
     ]
    }
   ],
   "source": [
    "def addition(list,length,total):\n",
    "    for ch in list:\n",
    "        total = total + list[length-1]\n",
    "        length = length-1\n",
    "    return total\n",
    "memo=[] \n",
    "for i in range (10):\n",
    "    x=int(input(\"enter no. \\n\")) \n",
    "    memo.insert(i,x)\n",
    "    i+=1\n",
    "print(memo)\n",
    "b=len(memo)\n",
    "c=0\n",
    "total_sum = addition(memo,b,c)\n",
    "print(\"The sum of all the elements inside the list is: \", total_sum)"
   ]
  },
  {
   "cell_type": "code",
   "execution_count": null,
   "id": "f712aa3b",
   "metadata": {},
   "outputs": [],
   "source": []
  },
  {
   "cell_type": "code",
   "execution_count": null,
   "id": "9281c922",
   "metadata": {},
   "outputs": [],
   "source": []
  }
 ],
 "metadata": {
  "kernelspec": {
   "display_name": "Python 3 (ipykernel)",
   "language": "python",
   "name": "python3"
  },
  "language_info": {
   "codemirror_mode": {
    "name": "ipython",
    "version": 3
   },
   "file_extension": ".py",
   "mimetype": "text/x-python",
   "name": "python",
   "nbconvert_exporter": "python",
   "pygments_lexer": "ipython3",
   "version": "3.10.0"
  }
 },
 "nbformat": 4,
 "nbformat_minor": 5
}
